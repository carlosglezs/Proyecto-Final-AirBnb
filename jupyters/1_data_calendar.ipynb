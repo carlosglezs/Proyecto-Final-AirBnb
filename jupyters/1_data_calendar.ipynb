{
 "cells": [
  {
   "cell_type": "code",
   "execution_count": 7,
   "id": "58f94fb3",
   "metadata": {},
   "outputs": [],
   "source": [
    "# Importaciones\n",
    "import pandas as pd\n",
    "import numpy as np\n",
    "import sys\n",
    "import ast\n",
    "sys.path.append(\"..\")\n",
    "from src import soporte as sp\n",
    "from datetime import datetime"
   ]
  },
  {
   "cell_type": "code",
   "execution_count": 8,
   "id": "768de166",
   "metadata": {},
   "outputs": [
    {
     "name": "stderr",
     "output_type": "stream",
     "text": [
      "C:\\Users\\cargo\\AppData\\Local\\Temp\\ipykernel_23476\\3904375805.py:2: DtypeWarning: Columns (4) have mixed types. Specify dtype option on import or set low_memory=False.\n",
      "  df_raw_mar = pd.read_csv(\"../data/calendar_mar.csv\")\n"
     ]
    }
   ],
   "source": [
    "# Leer archivos\n",
    "df_raw_mar = pd.read_csv(\"../data/calendar_mar.csv\")\n",
    "df_raw_dec = pd.read_csv(\"../data/calendar_dec.csv\")\n",
    "df_raw_sep = pd.read_csv(\"../data/calendar_sep.csv\")"
   ]
  },
  {
   "cell_type": "code",
   "execution_count": null,
   "id": "b9db2273",
   "metadata": {},
   "outputs": [
    {
     "name": "stdout",
     "output_type": "stream",
     "text": [
      "🔍 DataFrame 1: 0 registros duplicados\n",
      "🔍 DataFrame 2: 0 registros duplicados\n",
      "🔍 DataFrame 3: 0 registros duplicados\n"
     ]
    }
   ],
   "source": [
    "# Revisar duplicados en cada DataFrame de la lista\n",
    "lista_df = (df_raw_dec, df_raw_mar, df_raw_sep)\n",
    "for i, df in enumerate(lista_df, start=1):\n",
    "    duplicados = df[df.duplicated()]S\n",
    "    print(f\"🔍 DataFrame {i}: {len(duplicados)} registros duplicados\")"
   ]
  },
  {
   "cell_type": "markdown",
   "id": "00b2e214",
   "metadata": {},
   "source": [
    "Se genera de cada archivo con las reservas las reservas que hay en los siguientes 3 meses para no colapsar con las reservas del siguiente archivo, excepto en el último (junio de 2025) que se hace así para que las muestras sea homogéneas.\n",
    "\n",
    "Se calculan los días que no está disponible teniendo en cuenta los días que  la disponibilidad es \"f\"\n",
    "\n",
    "Se calcula el ingreso sumando el precio de todo el periodo\n",
    "\n",
    "Se calcula los días que realmente está reservado pues algunos registros aparecen como \"f\" en disponibilidad pero no se genera ingreso.Se calcula sumando las \"f\" en disponiblidad cuando el precio es superior a 0\n",
    "\n",
    "Se calcula el promedio diario diviediendo el ingreso ocupado entre los días reservados"
   ]
  },
  {
   "cell_type": "code",
   "execution_count": 10,
   "id": "888d32cb",
   "metadata": {},
   "outputs": [
    {
     "ename": "KeyError",
     "evalue": "'daily_income'",
     "output_type": "error",
     "traceback": [
      "\u001b[31m---------------------------------------------------------------------------\u001b[39m",
      "\u001b[31mKeyError\u001b[39m                                  Traceback (most recent call last)",
      "\u001b[36mFile \u001b[39m\u001b[32mc:\\Users\\cargo\\Proyecto-Final-AirBnb\\venv\\Lib\\site-packages\\pandas\\core\\indexes\\base.py:3812\u001b[39m, in \u001b[36mIndex.get_loc\u001b[39m\u001b[34m(self, key)\u001b[39m\n\u001b[32m   3811\u001b[39m \u001b[38;5;28;01mtry\u001b[39;00m:\n\u001b[32m-> \u001b[39m\u001b[32m3812\u001b[39m     \u001b[38;5;28;01mreturn\u001b[39;00m \u001b[38;5;28;43mself\u001b[39;49m\u001b[43m.\u001b[49m\u001b[43m_engine\u001b[49m\u001b[43m.\u001b[49m\u001b[43mget_loc\u001b[49m\u001b[43m(\u001b[49m\u001b[43mcasted_key\u001b[49m\u001b[43m)\u001b[49m\n\u001b[32m   3813\u001b[39m \u001b[38;5;28;01mexcept\u001b[39;00m \u001b[38;5;167;01mKeyError\u001b[39;00m \u001b[38;5;28;01mas\u001b[39;00m err:\n",
      "\u001b[36mFile \u001b[39m\u001b[32mpandas/_libs/index.pyx:167\u001b[39m, in \u001b[36mpandas._libs.index.IndexEngine.get_loc\u001b[39m\u001b[34m()\u001b[39m\n",
      "\u001b[36mFile \u001b[39m\u001b[32mpandas/_libs/index.pyx:196\u001b[39m, in \u001b[36mpandas._libs.index.IndexEngine.get_loc\u001b[39m\u001b[34m()\u001b[39m\n",
      "\u001b[36mFile \u001b[39m\u001b[32mpandas/_libs/hashtable_class_helper.pxi:7088\u001b[39m, in \u001b[36mpandas._libs.hashtable.PyObjectHashTable.get_item\u001b[39m\u001b[34m()\u001b[39m\n",
      "\u001b[36mFile \u001b[39m\u001b[32mpandas/_libs/hashtable_class_helper.pxi:7096\u001b[39m, in \u001b[36mpandas._libs.hashtable.PyObjectHashTable.get_item\u001b[39m\u001b[34m()\u001b[39m\n",
      "\u001b[31mKeyError\u001b[39m: 'daily_income'",
      "\nThe above exception was the direct cause of the following exception:\n",
      "\u001b[31mKeyError\u001b[39m                                  Traceback (most recent call last)",
      "\u001b[36mCell\u001b[39m\u001b[36m \u001b[39m\u001b[32mIn[10]\u001b[39m\u001b[32m, line 13\u001b[39m\n\u001b[32m     11\u001b[39m \u001b[38;5;66;03m# Procesar cada archivo\u001b[39;00m\n\u001b[32m     12\u001b[39m \u001b[38;5;28;01mfor\u001b[39;00m archivo, fecha \u001b[38;5;129;01min\u001b[39;00m archivos_fechas.items():\n\u001b[32m---> \u001b[39m\u001b[32m13\u001b[39m     resumen = \u001b[43msp\u001b[49m\u001b[43m.\u001b[49m\u001b[43mprocesar\u001b[49m\u001b[43m(\u001b[49m\u001b[43marchivo\u001b[49m\u001b[43m,\u001b[49m\u001b[43m \u001b[49m\u001b[43mfecha\u001b[49m\u001b[43m)\u001b[49m\n\u001b[32m     14\u001b[39m     resumenes.append(resumen)\n\u001b[32m     16\u001b[39m \u001b[38;5;66;03m# Concatenar todo\u001b[39;00m\n",
      "\u001b[36mFile \u001b[39m\u001b[32mc:\\Users\\cargo\\Proyecto-Final-AirBnb\\jupyters\\..\\src\\soporte.py:38\u001b[39m, in \u001b[36mprocesar\u001b[39m\u001b[34m(path, fecha_inicio_str)\u001b[39m\n\u001b[32m     31\u001b[39m df_ocupado = df[df[\u001b[33m'\u001b[39m\u001b[33mavailable\u001b[39m\u001b[33m'\u001b[39m] == \u001b[33m'\u001b[39m\u001b[33mf\u001b[39m\u001b[33m'\u001b[39m].copy()\n\u001b[32m     33\u001b[39m resumen = df_ocupado.groupby([\u001b[33m'\u001b[39m\u001b[33mlisting_id\u001b[39m\u001b[33m'\u001b[39m, \u001b[33m'\u001b[39m\u001b[33mtrimester\u001b[39m\u001b[33m'\u001b[39m]).agg(\n\u001b[32m     34\u001b[39m     dias_airbnb=(\u001b[33m'\u001b[39m\u001b[33mavailable\u001b[39m\u001b[33m'\u001b[39m, \u001b[33m'\u001b[39m\u001b[33mcount\u001b[39m\u001b[33m'\u001b[39m),\n\u001b[32m     35\u001b[39m     ingreso_airbnb=(\u001b[33m'\u001b[39m\u001b[33mprice\u001b[39m\u001b[33m'\u001b[39m, \u001b[33m'\u001b[39m\u001b[33msum\u001b[39m\u001b[33m'\u001b[39m)\n\u001b[32m     36\u001b[39m ).reset_index()\n\u001b[32m---> \u001b[39m\u001b[32m38\u001b[39m resumen[\u001b[33m'\u001b[39m\u001b[33mavg_day\u001b[39m\u001b[33m'\u001b[39m] = (\u001b[43mresumen\u001b[49m\u001b[43m[\u001b[49m\u001b[33;43m'\u001b[39;49m\u001b[33;43mdaily_income\u001b[39;49m\u001b[33;43m'\u001b[39;49m\u001b[43m]\u001b[49m / resumen[\u001b[33m'\u001b[39m\u001b[33mbusy_days\u001b[39m\u001b[33m'\u001b[39m]).round(\u001b[32m2\u001b[39m)\n\u001b[32m     39\u001b[39m resumen[\u001b[33m'\u001b[39m\u001b[33mdaily_income\u001b[39m\u001b[33m'\u001b[39m] = resumen[\u001b[33m'\u001b[39m\u001b[33mdaily_income\u001b[39m\u001b[33m'\u001b[39m].round(\u001b[32m2\u001b[39m)\n\u001b[32m     40\u001b[39m resumen[\u001b[33m'\u001b[39m\u001b[33moccupancy_rate\u001b[39m\u001b[33m'\u001b[39m] = (resumen[\u001b[33m'\u001b[39m\u001b[33mbusy_days\u001b[39m\u001b[33m'\u001b[39m] / dias_trimestre * \u001b[32m100\u001b[39m).round(\u001b[32m2\u001b[39m)\n",
      "\u001b[36mFile \u001b[39m\u001b[32mc:\\Users\\cargo\\Proyecto-Final-AirBnb\\venv\\Lib\\site-packages\\pandas\\core\\frame.py:4107\u001b[39m, in \u001b[36mDataFrame.__getitem__\u001b[39m\u001b[34m(self, key)\u001b[39m\n\u001b[32m   4105\u001b[39m \u001b[38;5;28;01mif\u001b[39;00m \u001b[38;5;28mself\u001b[39m.columns.nlevels > \u001b[32m1\u001b[39m:\n\u001b[32m   4106\u001b[39m     \u001b[38;5;28;01mreturn\u001b[39;00m \u001b[38;5;28mself\u001b[39m._getitem_multilevel(key)\n\u001b[32m-> \u001b[39m\u001b[32m4107\u001b[39m indexer = \u001b[38;5;28;43mself\u001b[39;49m\u001b[43m.\u001b[49m\u001b[43mcolumns\u001b[49m\u001b[43m.\u001b[49m\u001b[43mget_loc\u001b[49m\u001b[43m(\u001b[49m\u001b[43mkey\u001b[49m\u001b[43m)\u001b[49m\n\u001b[32m   4108\u001b[39m \u001b[38;5;28;01mif\u001b[39;00m is_integer(indexer):\n\u001b[32m   4109\u001b[39m     indexer = [indexer]\n",
      "\u001b[36mFile \u001b[39m\u001b[32mc:\\Users\\cargo\\Proyecto-Final-AirBnb\\venv\\Lib\\site-packages\\pandas\\core\\indexes\\base.py:3819\u001b[39m, in \u001b[36mIndex.get_loc\u001b[39m\u001b[34m(self, key)\u001b[39m\n\u001b[32m   3814\u001b[39m     \u001b[38;5;28;01mif\u001b[39;00m \u001b[38;5;28misinstance\u001b[39m(casted_key, \u001b[38;5;28mslice\u001b[39m) \u001b[38;5;129;01mor\u001b[39;00m (\n\u001b[32m   3815\u001b[39m         \u001b[38;5;28misinstance\u001b[39m(casted_key, abc.Iterable)\n\u001b[32m   3816\u001b[39m         \u001b[38;5;129;01mand\u001b[39;00m \u001b[38;5;28many\u001b[39m(\u001b[38;5;28misinstance\u001b[39m(x, \u001b[38;5;28mslice\u001b[39m) \u001b[38;5;28;01mfor\u001b[39;00m x \u001b[38;5;129;01min\u001b[39;00m casted_key)\n\u001b[32m   3817\u001b[39m     ):\n\u001b[32m   3818\u001b[39m         \u001b[38;5;28;01mraise\u001b[39;00m InvalidIndexError(key)\n\u001b[32m-> \u001b[39m\u001b[32m3819\u001b[39m     \u001b[38;5;28;01mraise\u001b[39;00m \u001b[38;5;167;01mKeyError\u001b[39;00m(key) \u001b[38;5;28;01mfrom\u001b[39;00m\u001b[38;5;250m \u001b[39m\u001b[34;01merr\u001b[39;00m\n\u001b[32m   3820\u001b[39m \u001b[38;5;28;01mexcept\u001b[39;00m \u001b[38;5;167;01mTypeError\u001b[39;00m:\n\u001b[32m   3821\u001b[39m     \u001b[38;5;66;03m# If we have a listlike key, _check_indexing_error will raise\u001b[39;00m\n\u001b[32m   3822\u001b[39m     \u001b[38;5;66;03m#  InvalidIndexError. Otherwise we fall through and re-raise\u001b[39;00m\n\u001b[32m   3823\u001b[39m     \u001b[38;5;66;03m#  the TypeError.\u001b[39;00m\n\u001b[32m   3824\u001b[39m     \u001b[38;5;28mself\u001b[39m._check_indexing_error(key)\n",
      "\u001b[31mKeyError\u001b[39m: 'daily_income'"
     ]
    }
   ],
   "source": [
    "# Diccionario archivos-fechas\n",
    "archivos_fechas = {\n",
    "    \"../data/calendar_sep.csv\": \"2024-09-11\",\n",
    "    \"../data/calendar_dec.csv\": \"2024-12-11\",\n",
    "    \"../data/calendar_mar.csv\": \"2025-03-11\"\n",
    "}\n",
    "\n",
    "# Lista para acumular los resúmenes\n",
    "resumenes = []\n",
    "\n",
    "# Procesar cada archivo\n",
    "for archivo, fecha in archivos_fechas.items():\n",
    "    resumen = sp.procesar(archivo, fecha)\n",
    "    resumenes.append(resumen)\n",
    "\n",
    "# Concatenar todo\n",
    "resumen_anual = pd.concat(resumenes, ignore_index=True)\n",
    "\n",
    "# Guardar resultado\n",
    "resumen_anual.to_csv(\"../data/resumen_anual.csv\", index=False)\n",
    "\n",
    "print(\"✅ Archivo resumen_anual.csv generado correctamente\")\n"
   ]
  },
  {
   "cell_type": "code",
   "execution_count": null,
   "id": "50e6b511",
   "metadata": {},
   "outputs": [],
   "source": [
    "df_resumen = pd.read_csv(\"../data/resumen_anual.csv\")"
   ]
  },
  {
   "cell_type": "code",
   "execution_count": null,
   "id": "fe4b871b",
   "metadata": {},
   "outputs": [
    {
     "data": {
      "text/html": [
       "<div>\n",
       "<style scoped>\n",
       "    .dataframe tbody tr th:only-of-type {\n",
       "        vertical-align: middle;\n",
       "    }\n",
       "\n",
       "    .dataframe tbody tr th {\n",
       "        vertical-align: top;\n",
       "    }\n",
       "\n",
       "    .dataframe thead th {\n",
       "        text-align: right;\n",
       "    }\n",
       "</style>\n",
       "<table border=\"1\" class=\"dataframe\">\n",
       "  <thead>\n",
       "    <tr style=\"text-align: right;\">\n",
       "      <th></th>\n",
       "      <th>listing_id</th>\n",
       "      <th>trimestre</th>\n",
       "      <th>dias_airbnb</th>\n",
       "      <th>ingreso_airbnb</th>\n",
       "      <th>promedio_diario</th>\n",
       "      <th>porcentaje_uso_airbnb</th>\n",
       "    </tr>\n",
       "  </thead>\n",
       "  <tbody>\n",
       "    <tr>\n",
       "      <th>44775</th>\n",
       "      <td>1065027872061639856</td>\n",
       "      <td>2024Q4</td>\n",
       "      <td>12</td>\n",
       "      <td>11988.0</td>\n",
       "      <td>999.0</td>\n",
       "      <td>13.33</td>\n",
       "    </tr>\n",
       "    <tr>\n",
       "      <th>22748</th>\n",
       "      <td>1148348223756198919</td>\n",
       "      <td>2024Q3</td>\n",
       "      <td>44</td>\n",
       "      <td>4840.0</td>\n",
       "      <td>110.0</td>\n",
       "      <td>48.35</td>\n",
       "    </tr>\n",
       "    <tr>\n",
       "      <th>39596</th>\n",
       "      <td>799795335995606196</td>\n",
       "      <td>2024Q4</td>\n",
       "      <td>86</td>\n",
       "      <td>6880.0</td>\n",
       "      <td>80.0</td>\n",
       "      <td>95.56</td>\n",
       "    </tr>\n",
       "    <tr>\n",
       "      <th>26550</th>\n",
       "      <td>1443639</td>\n",
       "      <td>2024Q4</td>\n",
       "      <td>16</td>\n",
       "      <td>4800.0</td>\n",
       "      <td>300.0</td>\n",
       "      <td>17.78</td>\n",
       "    </tr>\n",
       "    <tr>\n",
       "      <th>36420</th>\n",
       "      <td>53935579</td>\n",
       "      <td>2024Q4</td>\n",
       "      <td>49</td>\n",
       "      <td>3430.0</td>\n",
       "      <td>70.0</td>\n",
       "      <td>54.44</td>\n",
       "    </tr>\n",
       "    <tr>\n",
       "      <th>56520</th>\n",
       "      <td>29899013</td>\n",
       "      <td>2025Q1</td>\n",
       "      <td>21</td>\n",
       "      <td>1344.0</td>\n",
       "      <td>64.0</td>\n",
       "      <td>22.83</td>\n",
       "    </tr>\n",
       "    <tr>\n",
       "      <th>75400</th>\n",
       "      <td>1355819414143050560</td>\n",
       "      <td>2025Q1</td>\n",
       "      <td>38</td>\n",
       "      <td>3230.0</td>\n",
       "      <td>85.0</td>\n",
       "      <td>41.30</td>\n",
       "    </tr>\n",
       "    <tr>\n",
       "      <th>29671</th>\n",
       "      <td>21262594</td>\n",
       "      <td>2024Q4</td>\n",
       "      <td>27</td>\n",
       "      <td>1620.0</td>\n",
       "      <td>60.0</td>\n",
       "      <td>30.00</td>\n",
       "    </tr>\n",
       "    <tr>\n",
       "      <th>7255</th>\n",
       "      <td>37397008</td>\n",
       "      <td>2024Q3</td>\n",
       "      <td>91</td>\n",
       "      <td>3640.0</td>\n",
       "      <td>40.0</td>\n",
       "      <td>100.00</td>\n",
       "    </tr>\n",
       "    <tr>\n",
       "      <th>501</th>\n",
       "      <td>3318664</td>\n",
       "      <td>2024Q3</td>\n",
       "      <td>77</td>\n",
       "      <td>13475.0</td>\n",
       "      <td>175.0</td>\n",
       "      <td>84.62</td>\n",
       "    </tr>\n",
       "  </tbody>\n",
       "</table>\n",
       "</div>"
      ],
      "text/plain": [
       "                listing_id trimestre  dias_airbnb  ingreso_airbnb  \\\n",
       "44775  1065027872061639856    2024Q4           12         11988.0   \n",
       "22748  1148348223756198919    2024Q3           44          4840.0   \n",
       "39596   799795335995606196    2024Q4           86          6880.0   \n",
       "26550              1443639    2024Q4           16          4800.0   \n",
       "36420             53935579    2024Q4           49          3430.0   \n",
       "56520             29899013    2025Q1           21          1344.0   \n",
       "75400  1355819414143050560    2025Q1           38          3230.0   \n",
       "29671             21262594    2024Q4           27          1620.0   \n",
       "7255              37397008    2024Q3           91          3640.0   \n",
       "501                3318664    2024Q3           77         13475.0   \n",
       "\n",
       "       promedio_diario  porcentaje_uso_airbnb  \n",
       "44775            999.0                  13.33  \n",
       "22748            110.0                  48.35  \n",
       "39596             80.0                  95.56  \n",
       "26550            300.0                  17.78  \n",
       "36420             70.0                  54.44  \n",
       "56520             64.0                  22.83  \n",
       "75400             85.0                  41.30  \n",
       "29671             60.0                  30.00  \n",
       "7255              40.0                 100.00  \n",
       "501              175.0                  84.62  "
      ]
     },
     "execution_count": 14,
     "metadata": {},
     "output_type": "execute_result"
    }
   ],
   "source": [
    "df_resumen.sample(10)"
   ]
  }
 ],
 "metadata": {
  "kernelspec": {
   "display_name": "venv",
   "language": "python",
   "name": "python3"
  },
  "language_info": {
   "codemirror_mode": {
    "name": "ipython",
    "version": 3
   },
   "file_extension": ".py",
   "mimetype": "text/x-python",
   "name": "python",
   "nbconvert_exporter": "python",
   "pygments_lexer": "ipython3",
   "version": "3.13.1"
  }
 },
 "nbformat": 4,
 "nbformat_minor": 5
}
